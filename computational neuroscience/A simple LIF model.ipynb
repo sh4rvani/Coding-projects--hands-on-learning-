{
 "cells": [
  {
   "cell_type": "markdown",
   "id": "14ae7706-1213-4d77-8f81-82e3088f4053",
   "metadata": {},
   "source": [
    "## Leaky Integrate and Fire (LIF) Model : \n",
    "Replicated from :https://mrgreene09.github.io/computational-neuroscience-textbook/Ch3.html#leaky-integrate-and-fire-model\n",
    "\\\n",
    "The Leaky Integrate-and-Fire (LIF) model is a simple yet effective model used to describe the behavior of a neuron, particularly its membrane potential over time. This model is based on the idea that the neuron integrates incoming stimuli (current), and once the membrane potential reaches a certain threshold, it \"fires\" (producing an action potential), and then resets.\n",
    "The membrane potential of the neuron,$V(t)$, evolves over time based on the balance between the incoming current and the leakage (which causes the potential to decay back to a resting state). When the membrane potential crosses a threshold, the neuron fires and its voltage is reset to a lower value."
   ]
  },
  {
   "cell_type": "markdown",
   "id": "91d7ea38-1f98-4535-8239-98bb69aa2034",
   "metadata": {},
   "source": [
    "#### Differential Equation for LIF Model\n",
    "The basic equation governing the LIF model is:\n",
    "\n",
    "$$\n",
    "\\tau_m \\frac{dV(t)}{dt} = - (V(t) - V_{\\text{rest}}) + R_m I(t)\n",
    "$$\n",
    "\n",
    "Where:\n",
    "-  $𝑉(𝑡)$ = Membrane potential at time $t(mV)$\n",
    "-  $𝑉rest$ = Resting potential (mV)\n",
    "-  $𝜏𝑚$ = Membrane time constant (ms)\n",
    "-  $𝑅𝑚$ = Membrane resistance \n",
    "-  $I(t)$ = External input current (nA)"
   ]
  },
  {
   "cell_type": "markdown",
   "id": "56258c68-6829-4932-b5cb-522b3216fcb9",
   "metadata": {},
   "source": [
    "The term $ -(V(t) - V_{\\text{rest}})$ represents the leakage, i.e., the tendency of the membrane potential to return to its resting state.\n",
    "The term $ R_m I(t)$  accounts for the external current injection, which depolarizes the membrane."
   ]
  },
  {
   "cell_type": "markdown",
   "id": "dea238e7-6ef6-43ab-a68d-7ed86870a1d8",
   "metadata": {},
   "source": [
    "$Problem$ : Using the leaky integrate-and-fire model run a simulation for 500 ms in time increments of 0.05 ms starting at the membrane’s resting potential of -70 mV. For the first 100 ms, using a 0.5 nA injected current, from 125 ms to 200 ms inject 1.3 nA, and between 250 ms and 350 ms the injected current is increased to 2.0 nA. \n",
    "You may assume the following values:\n",
    "-   $𝑅𝑚$ = 10 Mohms\n",
    "-   $𝜏𝑚$ = 10ms\n",
    "-   $𝑉(𝑡h)$ = -55mV\n",
    "-   $𝑉reset$ = -75 mV\n",
    "-   $𝑉spike$ =20 m "
   ]
  },
  {
   "cell_type": "code",
   "execution_count": 12,
   "id": "d10ec964-140f-46ae-8c6d-836360036200",
   "metadata": {},
   "outputs": [],
   "source": [
    "import numpy as np\n",
    "import matplotlib.pyplot as plt"
   ]
  },
  {
   "cell_type": "code",
   "execution_count": 13,
   "id": "6ea06cdb-d675-4254-bd70-1b70329cda38",
   "metadata": {},
   "outputs": [],
   "source": [
    "Vthresh = -55   # mV, Threshold for spiking\n",
    "Vreset  = -75   # mV, Reset potential after spike\n",
    "Vspike  = 20    # mV, Spike potential\n",
    "Rm      = 10    # MΩ, Membrane resistance\n",
    "tau     = 10    # ms, Membrane time constant\n",
    "Vrest   = -70   # mV, Resting potential\n",
    "dt      = 0.05  # ms, Time step for simulation\n",
    "t_end   = 500   # ms, End time of the simulation"
   ]
  },
  {
   "cell_type": "markdown",
   "id": "cbb2dbff-7796-4617-833e-8a4722240e8c",
   "metadata": {},
   "source": [
    "- $Vthresh$: The threshold membrane potential. When the membrane potential exceeds this value, the neuron fires (spikes).\n",
    "- $Vreset$: The voltage the neuron resets to after firing. This is the \"resting potential\" after the spike.\n",
    "- $Vspike$: The membrane potential value when the neuron fires. Often set to a higher value like 20 mV during a spike.\n",
    "- $Rm$: The membrane resistance, which controls how the membrane potential responds to external current.\n",
    "- $\\tau$: The membrane time constant, which determines the speed of the voltage decay. It essentially governs how fast the neuron \"leaks\" over time.\n",
    "- $Vrest$: The resting membrane potential, which is the baseline voltage of the neuron when no input is applied.\n",
    "- $dt$: The time step (in ms) used in the simulation. It determines the granularity of the time evolution.\n",
    "- $t_end$: The total time for which the simulation runs (500 ms)."
   ]
  },
  {
   "cell_type": "markdown",
   "id": "6396b2c9-e7ff-446c-b7cf-5aa8c3f79865",
   "metadata": {},
   "source": [
    "#### Creating the Time Vector and Initializing Voltage and Stimulation Vector"
   ]
  },
  {
   "cell_type": "code",
   "execution_count": 14,
   "id": "671a8729-7db7-4626-944e-33ef132ced9e",
   "metadata": {},
   "outputs": [],
   "source": [
    "timeVector = np.arange(0, t_end, dt)\n",
    "voltageVector = np.zeros(len(timeVector))\n",
    "stimVector = np.zeros(len(timeVector)) "
   ]
  },
  {
   "cell_type": "markdown",
   "id": "45572de9-72e9-4626-8e9a-e2c4abb44a1e",
   "metadata": {},
   "source": [
    "$stimVector$ : An array representing the external current stimulus applied to the neuron at each time point. It is initially filled with zeros, and we will later assign specific current values at different time intervals (e.g., 0.5 nA for the first 100 ms, 1.3 nA from 125 ms to 200 ms, etc.)."
   ]
  },
  {
   "cell_type": "code",
   "execution_count": 15,
   "id": "4cc71578-9939-42b7-bb5f-3fdb09d60160",
   "metadata": {},
   "outputs": [],
   "source": [
    "stimVector[0:2000] = 0.5   # 0.5 nA for first 100 ms\n",
    "stimVector[2500:4000] = 1.3 # 1.3 nA from 125 ms to 200 ms\n",
    "stimVector[5000:7000] = 2.0 # 2.0 nA from 250 ms to 350 ms"
   ]
  },
  {
   "cell_type": "markdown",
   "id": "294b60b2-70bc-4499-a0d4-78c5cc78919e",
   "metadata": {},
   "source": [
    "Simulation Setup:\n",
    "For a simulation of 500 ms with $𝑑𝑡$= 0.05 ms, \n",
    "Total Indices = Total Time/𝑑𝑡 =500/0.05 = 10,000\n",
    "-  First 100 ms: We want a stimulation of 0.5 nA, Start Index = 0/0.05=0,End Index=100/0.05 =2000\n",
    "-  125 ms to 200 ms: start index=125/0.05= 2500, end index= 200/0/05=4000\n",
    "-  250 ms to 350ms: start index= 250/0.05=5000, end index=350/0.05=7000\n",
    "-  These current injections influence the membrane potential and cause the neuron to \"integrate\" them, which is modeled using the LIF equation."
   ]
  },
  {
   "cell_type": "markdown",
   "id": "a18d71b8-8b58-4199-9801-409bec33b697",
   "metadata": {},
   "source": [
    "#### setting the initial resting membrane potential "
   ]
  },
  {
   "cell_type": "code",
   "execution_count": 16,
   "id": "cdc5cb6b-b803-4652-b6f9-cb52819a3399",
   "metadata": {},
   "outputs": [],
   "source": [
    "voltageVector[0] = Vrest"
   ]
  },
  {
   "cell_type": "markdown",
   "id": "ac488569-0a85-4e36-96c9-e4b501c1b443",
   "metadata": {},
   "source": [
    "#### simulating the neuron's membrane potential "
   ]
  },
  {
   "cell_type": "code",
   "execution_count": 17,
   "id": "f3c36a96-42fd-425d-b485-5e7e0b932973",
   "metadata": {},
   "outputs": [],
   "source": [
    "for S in range(len(timeVector)-1):\n",
    "    Vinf = Vrest + Rm * stimVector[S]  # Voltage at the current time step\n",
    "    voltageVector[S+1] = Vinf + (voltageVector[S] - Vinf) * np.exp(-dt/tau)\n",
    "    \n",
    "    if voltageVector[S+1] >= Vthresh:\n",
    "        voltageVector[S+1] = Vspike  # Set voltage to spike value\n",
    "        if voltageVector[S] == Vspike:  # If it's already at spike, reset voltage\n",
    "            voltageVector[S+1] = Vreset"
   ]
  },
  {
   "cell_type": "markdown",
   "id": "91c491f2-1fe4-48e3-8e1e-57da1a19ab37",
   "metadata": {},
   "source": [
    "Voltage Update (Using the LIF Equation):\n",
    "The formula used for updating the membrane potential is:\n",
    "$$\n",
    "V(t + \\ dt) = V_{\\text{rest}} + R_m \\cdot I(t) + (V(t) - V_{\\text{rest}}) \\cdot e^{-\\frac{\\ dt}{\\tau}}\n",
    "$$\n",
    "\n",
    " \n",
    "This represents how the membrane potential is influenced by the external current (stimVector[S]), and how it decays back towards the resting potential based on the time constant ($\\tau$).\n",
    "- Spike Detection: If the membrane potential exceeds the threshold ($Vthresh$), the neuron spikes, and the voltage is set to the spike value ($Vspike$).\n",
    "- Resetting after Spike: If the neuron is already at Vspike (indicating a spike occurred), the voltage is reset to Vreset to simulate the reset behavior after an action potential."
   ]
  },
  {
   "cell_type": "code",
   "execution_count": 18,
   "id": "01d114d9-0820-4dc2-bce0-f34a332d6001",
   "metadata": {},
   "outputs": [
    {
     "data": {
      "image/png": "[encoded data removed]",
      "text/plain": [
       "<Figure size 1000x600 with 1 Axes>"
      ]
     },
     "metadata": {},
     "output_type": "display_data"
    }
   ],
   "source": [
    "plt.figure(figsize=(10, 6))\n",
    "plt.plot(timeVector, voltageVector)\n",
    "plt.xlabel('Time (ms)')\n",
    "plt.ylabel('Membrane Potential (mV)')\n",
    "plt.title('Leaky Integrate-and-Fire Neuron Simulation')\n",
    "plt.grid(True)\n",
    "plt.show()"
   ]
  },
  {
   "cell_type": "code",
   "execution_count": 19,
   "id": "31915d58-23fd-4a61-8d6a-b13eaf8ff2de",
   "metadata": {},
   "outputs": [
    {
     "name": "stdout",
     "output_type": "stream",
     "text": [
      "-67.30748748194277\n"
     ]
    }
   ],
   "source": [
    "print (voltageVector[2540])"
   ]
  },
  {
   "cell_type": "code",
   "execution_count": null,
   "id": "3ded0267-a008-4c08-a26e-bbc0dce29e7e",
   "metadata": {},
   "outputs": [],
   "source": []
  }
 ],
 "metadata": {
  "kernelspec": {
   "display_name": "Python 3 (ipykernel)",
   "language": "python",
   "name": "python3"
  },
  "language_info": {
   "codemirror_mode": {
    "name": "ipython",
    "version": 3
   },
   "file_extension": ".py",
   "mimetype": "text/x-python",
   "name": "python",
   "nbconvert_exporter": "python",
   "pygments_lexer": "ipython3",
   "version": "3.11.7"
  }
 },
 "nbformat": 4,
 "nbformat_minor": 5
}
